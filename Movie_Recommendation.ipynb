{
 "cells": [
  {
   "cell_type": "code",
   "execution_count": 1,
   "id": "c257dd41-6550-4b51-ab5d-416d5324f3fe",
   "metadata": {},
   "outputs": [],
   "source": [
    "import pandas as pd\n",
    "import numpy as np"
   ]
  },
  {
   "cell_type": "code",
   "execution_count": 2,
   "id": "8a3fb8db-5c32-45d6-8568-701b84e23281",
   "metadata": {},
   "outputs": [
    {
     "data": {
      "text/html": [
       "<div>\n",
       "<style scoped>\n",
       "    .dataframe tbody tr th:only-of-type {\n",
       "        vertical-align: middle;\n",
       "    }\n",
       "\n",
       "    .dataframe tbody tr th {\n",
       "        vertical-align: top;\n",
       "    }\n",
       "\n",
       "    .dataframe thead th {\n",
       "        text-align: right;\n",
       "    }\n",
       "</style>\n",
       "<table border=\"1\" class=\"dataframe\">\n",
       "  <thead>\n",
       "    <tr style=\"text-align: right;\">\n",
       "      <th></th>\n",
       "      <th>Poster_Link</th>\n",
       "      <th>Series_Title</th>\n",
       "      <th>Released_Year</th>\n",
       "      <th>Certificate</th>\n",
       "      <th>Runtime</th>\n",
       "      <th>Genre</th>\n",
       "      <th>IMDB_Rating</th>\n",
       "      <th>Overview</th>\n",
       "      <th>Meta_score</th>\n",
       "      <th>Director</th>\n",
       "      <th>Star1</th>\n",
       "      <th>Star2</th>\n",
       "      <th>Star3</th>\n",
       "      <th>Star4</th>\n",
       "      <th>No_of_Votes</th>\n",
       "      <th>Gross</th>\n",
       "    </tr>\n",
       "  </thead>\n",
       "  <tbody>\n",
       "    <tr>\n",
       "      <th>0</th>\n",
       "      <td>https://m.media-amazon.com/images/M/MV5BMDFkYT...</td>\n",
       "      <td>The Shawshank Redemption</td>\n",
       "      <td>1994</td>\n",
       "      <td>A</td>\n",
       "      <td>142 min</td>\n",
       "      <td>Drama</td>\n",
       "      <td>9.3</td>\n",
       "      <td>Two imprisoned men bond over a number of years...</td>\n",
       "      <td>80.0</td>\n",
       "      <td>Frank Darabont</td>\n",
       "      <td>Tim Robbins</td>\n",
       "      <td>Morgan Freeman</td>\n",
       "      <td>Bob Gunton</td>\n",
       "      <td>William Sadler</td>\n",
       "      <td>2343110</td>\n",
       "      <td>28,341,469</td>\n",
       "    </tr>\n",
       "    <tr>\n",
       "      <th>1</th>\n",
       "      <td>https://m.media-amazon.com/images/M/MV5BM2MyNj...</td>\n",
       "      <td>The Godfather</td>\n",
       "      <td>1972</td>\n",
       "      <td>A</td>\n",
       "      <td>175 min</td>\n",
       "      <td>Crime, Drama</td>\n",
       "      <td>9.2</td>\n",
       "      <td>An organized crime dynasty's aging patriarch t...</td>\n",
       "      <td>100.0</td>\n",
       "      <td>Francis Ford Coppola</td>\n",
       "      <td>Marlon Brando</td>\n",
       "      <td>Al Pacino</td>\n",
       "      <td>James Caan</td>\n",
       "      <td>Diane Keaton</td>\n",
       "      <td>1620367</td>\n",
       "      <td>134,966,411</td>\n",
       "    </tr>\n",
       "    <tr>\n",
       "      <th>2</th>\n",
       "      <td>https://m.media-amazon.com/images/M/MV5BMTMxNT...</td>\n",
       "      <td>The Dark Knight</td>\n",
       "      <td>2008</td>\n",
       "      <td>UA</td>\n",
       "      <td>152 min</td>\n",
       "      <td>Action, Crime, Drama</td>\n",
       "      <td>9.0</td>\n",
       "      <td>When the menace known as the Joker wreaks havo...</td>\n",
       "      <td>84.0</td>\n",
       "      <td>Christopher Nolan</td>\n",
       "      <td>Christian Bale</td>\n",
       "      <td>Heath Ledger</td>\n",
       "      <td>Aaron Eckhart</td>\n",
       "      <td>Michael Caine</td>\n",
       "      <td>2303232</td>\n",
       "      <td>534,858,444</td>\n",
       "    </tr>\n",
       "    <tr>\n",
       "      <th>3</th>\n",
       "      <td>https://m.media-amazon.com/images/M/MV5BMWMwMG...</td>\n",
       "      <td>The Godfather: Part II</td>\n",
       "      <td>1974</td>\n",
       "      <td>A</td>\n",
       "      <td>202 min</td>\n",
       "      <td>Crime, Drama</td>\n",
       "      <td>9.0</td>\n",
       "      <td>The early life and career of Vito Corleone in ...</td>\n",
       "      <td>90.0</td>\n",
       "      <td>Francis Ford Coppola</td>\n",
       "      <td>Al Pacino</td>\n",
       "      <td>Robert De Niro</td>\n",
       "      <td>Robert Duvall</td>\n",
       "      <td>Diane Keaton</td>\n",
       "      <td>1129952</td>\n",
       "      <td>57,300,000</td>\n",
       "    </tr>\n",
       "    <tr>\n",
       "      <th>4</th>\n",
       "      <td>https://m.media-amazon.com/images/M/MV5BMWU4N2...</td>\n",
       "      <td>12 Angry Men</td>\n",
       "      <td>1957</td>\n",
       "      <td>U</td>\n",
       "      <td>96 min</td>\n",
       "      <td>Crime, Drama</td>\n",
       "      <td>9.0</td>\n",
       "      <td>A jury holdout attempts to prevent a miscarria...</td>\n",
       "      <td>96.0</td>\n",
       "      <td>Sidney Lumet</td>\n",
       "      <td>Henry Fonda</td>\n",
       "      <td>Lee J. Cobb</td>\n",
       "      <td>Martin Balsam</td>\n",
       "      <td>John Fiedler</td>\n",
       "      <td>689845</td>\n",
       "      <td>4,360,000</td>\n",
       "    </tr>\n",
       "  </tbody>\n",
       "</table>\n",
       "</div>"
      ],
      "text/plain": [
       "                                         Poster_Link  \\\n",
       "0  https://m.media-amazon.com/images/M/MV5BMDFkYT...   \n",
       "1  https://m.media-amazon.com/images/M/MV5BM2MyNj...   \n",
       "2  https://m.media-amazon.com/images/M/MV5BMTMxNT...   \n",
       "3  https://m.media-amazon.com/images/M/MV5BMWMwMG...   \n",
       "4  https://m.media-amazon.com/images/M/MV5BMWU4N2...   \n",
       "\n",
       "               Series_Title Released_Year Certificate  Runtime  \\\n",
       "0  The Shawshank Redemption          1994           A  142 min   \n",
       "1             The Godfather          1972           A  175 min   \n",
       "2           The Dark Knight          2008          UA  152 min   \n",
       "3    The Godfather: Part II          1974           A  202 min   \n",
       "4              12 Angry Men          1957           U   96 min   \n",
       "\n",
       "                  Genre  IMDB_Rating  \\\n",
       "0                 Drama          9.3   \n",
       "1          Crime, Drama          9.2   \n",
       "2  Action, Crime, Drama          9.0   \n",
       "3          Crime, Drama          9.0   \n",
       "4          Crime, Drama          9.0   \n",
       "\n",
       "                                            Overview  Meta_score  \\\n",
       "0  Two imprisoned men bond over a number of years...        80.0   \n",
       "1  An organized crime dynasty's aging patriarch t...       100.0   \n",
       "2  When the menace known as the Joker wreaks havo...        84.0   \n",
       "3  The early life and career of Vito Corleone in ...        90.0   \n",
       "4  A jury holdout attempts to prevent a miscarria...        96.0   \n",
       "\n",
       "               Director           Star1           Star2          Star3  \\\n",
       "0        Frank Darabont     Tim Robbins  Morgan Freeman     Bob Gunton   \n",
       "1  Francis Ford Coppola   Marlon Brando       Al Pacino     James Caan   \n",
       "2     Christopher Nolan  Christian Bale    Heath Ledger  Aaron Eckhart   \n",
       "3  Francis Ford Coppola       Al Pacino  Robert De Niro  Robert Duvall   \n",
       "4          Sidney Lumet     Henry Fonda     Lee J. Cobb  Martin Balsam   \n",
       "\n",
       "            Star4  No_of_Votes        Gross  \n",
       "0  William Sadler      2343110   28,341,469  \n",
       "1    Diane Keaton      1620367  134,966,411  \n",
       "2   Michael Caine      2303232  534,858,444  \n",
       "3    Diane Keaton      1129952   57,300,000  \n",
       "4    John Fiedler       689845    4,360,000  "
      ]
     },
     "execution_count": 2,
     "metadata": {},
     "output_type": "execute_result"
    }
   ],
   "source": [
    "data = pd.read_csv('imdb_top_1000.csv')\n",
    "data.head()"
   ]
  },
  {
   "cell_type": "code",
   "execution_count": 4,
   "id": "ee07243b-6c2c-4b7e-81e0-615b41ebec4d",
   "metadata": {},
   "outputs": [
    {
     "name": "stdout",
     "output_type": "stream",
     "text": [
      "<class 'pandas.core.frame.DataFrame'>\n",
      "RangeIndex: 1000 entries, 0 to 999\n",
      "Data columns (total 16 columns):\n",
      " #   Column         Non-Null Count  Dtype  \n",
      "---  ------         --------------  -----  \n",
      " 0   Poster_Link    1000 non-null   object \n",
      " 1   Series_Title   1000 non-null   object \n",
      " 2   Released_Year  1000 non-null   object \n",
      " 3   Certificate    899 non-null    object \n",
      " 4   Runtime        1000 non-null   object \n",
      " 5   Genre          1000 non-null   object \n",
      " 6   IMDB_Rating    1000 non-null   float64\n",
      " 7   Overview       1000 non-null   object \n",
      " 8   Meta_score     843 non-null    float64\n",
      " 9   Director       1000 non-null   object \n",
      " 10  Star1          1000 non-null   object \n",
      " 11  Star2          1000 non-null   object \n",
      " 12  Star3          1000 non-null   object \n",
      " 13  Star4          1000 non-null   object \n",
      " 14  No_of_Votes    1000 non-null   int64  \n",
      " 15  Gross          831 non-null    object \n",
      "dtypes: float64(2), int64(1), object(13)\n",
      "memory usage: 125.1+ KB\n"
     ]
    }
   ],
   "source": [
    "data.info()"
   ]
  },
  {
   "cell_type": "code",
   "execution_count": null,
   "id": "34761c14-6925-42ac-83eb-a4d05755db85",
   "metadata": {},
   "outputs": [],
   "source": []
  },
  {
   "cell_type": "code",
   "execution_count": 5,
   "id": "1c1f43b5-1b25-4f8a-a423-12638d85ab68",
   "metadata": {},
   "outputs": [
    {
     "data": {
      "text/html": [
       "<div>\n",
       "<style scoped>\n",
       "    .dataframe tbody tr th:only-of-type {\n",
       "        vertical-align: middle;\n",
       "    }\n",
       "\n",
       "    .dataframe tbody tr th {\n",
       "        vertical-align: top;\n",
       "    }\n",
       "\n",
       "    .dataframe thead th {\n",
       "        text-align: right;\n",
       "    }\n",
       "</style>\n",
       "<table border=\"1\" class=\"dataframe\">\n",
       "  <thead>\n",
       "    <tr style=\"text-align: right;\">\n",
       "      <th></th>\n",
       "      <th>IMDB_Rating</th>\n",
       "      <th>Meta_score</th>\n",
       "      <th>No_of_Votes</th>\n",
       "    </tr>\n",
       "  </thead>\n",
       "  <tbody>\n",
       "    <tr>\n",
       "      <th>count</th>\n",
       "      <td>1000.000000</td>\n",
       "      <td>843.000000</td>\n",
       "      <td>1.000000e+03</td>\n",
       "    </tr>\n",
       "    <tr>\n",
       "      <th>mean</th>\n",
       "      <td>7.949300</td>\n",
       "      <td>77.971530</td>\n",
       "      <td>2.736929e+05</td>\n",
       "    </tr>\n",
       "    <tr>\n",
       "      <th>std</th>\n",
       "      <td>0.275491</td>\n",
       "      <td>12.376099</td>\n",
       "      <td>3.273727e+05</td>\n",
       "    </tr>\n",
       "    <tr>\n",
       "      <th>min</th>\n",
       "      <td>7.600000</td>\n",
       "      <td>28.000000</td>\n",
       "      <td>2.508800e+04</td>\n",
       "    </tr>\n",
       "    <tr>\n",
       "      <th>25%</th>\n",
       "      <td>7.700000</td>\n",
       "      <td>70.000000</td>\n",
       "      <td>5.552625e+04</td>\n",
       "    </tr>\n",
       "    <tr>\n",
       "      <th>50%</th>\n",
       "      <td>7.900000</td>\n",
       "      <td>79.000000</td>\n",
       "      <td>1.385485e+05</td>\n",
       "    </tr>\n",
       "    <tr>\n",
       "      <th>75%</th>\n",
       "      <td>8.100000</td>\n",
       "      <td>87.000000</td>\n",
       "      <td>3.741612e+05</td>\n",
       "    </tr>\n",
       "    <tr>\n",
       "      <th>max</th>\n",
       "      <td>9.300000</td>\n",
       "      <td>100.000000</td>\n",
       "      <td>2.343110e+06</td>\n",
       "    </tr>\n",
       "  </tbody>\n",
       "</table>\n",
       "</div>"
      ],
      "text/plain": [
       "       IMDB_Rating  Meta_score   No_of_Votes\n",
       "count  1000.000000  843.000000  1.000000e+03\n",
       "mean      7.949300   77.971530  2.736929e+05\n",
       "std       0.275491   12.376099  3.273727e+05\n",
       "min       7.600000   28.000000  2.508800e+04\n",
       "25%       7.700000   70.000000  5.552625e+04\n",
       "50%       7.900000   79.000000  1.385485e+05\n",
       "75%       8.100000   87.000000  3.741612e+05\n",
       "max       9.300000  100.000000  2.343110e+06"
      ]
     },
     "execution_count": 5,
     "metadata": {},
     "output_type": "execute_result"
    }
   ],
   "source": [
    "data.describe()"
   ]
  },
  {
   "cell_type": "code",
   "execution_count": null,
   "id": "13513610-6150-467e-b491-c220a36bd655",
   "metadata": {},
   "outputs": [],
   "source": []
  },
  {
   "cell_type": "code",
   "execution_count": 6,
   "id": "a77f45fe-e1b0-4974-b767-aed5872eb8bc",
   "metadata": {},
   "outputs": [
    {
     "data": {
      "text/plain": [
       "Index(['Poster_Link', 'Series_Title', 'Released_Year', 'Certificate',\n",
       "       'Runtime', 'Genre', 'IMDB_Rating', 'Overview', 'Meta_score', 'Director',\n",
       "       'Star1', 'Star2', 'Star3', 'Star4', 'No_of_Votes', 'Gross'],\n",
       "      dtype='object')"
      ]
     },
     "execution_count": 6,
     "metadata": {},
     "output_type": "execute_result"
    }
   ],
   "source": [
    "data.columns"
   ]
  },
  {
   "cell_type": "code",
   "execution_count": null,
   "id": "64c001ef-1919-4969-ad48-2217c8bc0154",
   "metadata": {},
   "outputs": [],
   "source": []
  },
  {
   "cell_type": "code",
   "execution_count": 9,
   "id": "4d3b3d97-8eec-4fff-a4a1-495c914ae1e8",
   "metadata": {},
   "outputs": [
    {
     "name": "stdout",
     "output_type": "stream",
     "text": [
      "Poster_Link        0\n",
      "Series_Title       0\n",
      "Released_Year      0\n",
      "Certificate      101\n",
      "Runtime            0\n",
      "Genre              0\n",
      "IMDB_Rating        0\n",
      "Overview           0\n",
      "Meta_score       157\n",
      "Director           0\n",
      "Star1              0\n",
      "Star2              0\n",
      "Star3              0\n",
      "Star4              0\n",
      "No_of_Votes        0\n",
      "Gross            169\n",
      "dtype: int64\n"
     ]
    }
   ],
   "source": [
    "#checking for missing values\n",
    "\n",
    "print(data.isnull().sum())\n"
   ]
  },
  {
   "cell_type": "code",
   "execution_count": 12,
   "id": "baa540a1-dc1a-48f9-b6bb-6ff716132b76",
   "metadata": {},
   "outputs": [
    {
     "data": {
      "text/plain": [
       "0       80.0\n",
       "1      100.0\n",
       "2       84.0\n",
       "3       90.0\n",
       "4       96.0\n",
       "       ...  \n",
       "995     76.0\n",
       "996     84.0\n",
       "997     85.0\n",
       "998     78.0\n",
       "999     93.0\n",
       "Name: Meta_score, Length: 1000, dtype: float64"
      ]
     },
     "execution_count": 12,
     "metadata": {},
     "output_type": "execute_result"
    }
   ],
   "source": [
    "# Fill missing values in Meta_score with the median\n",
    "data['Meta_score'].fillna(data['Meta_score'].median())\n",
    "\n",
    "\n"
   ]
  },
  {
   "cell_type": "code",
   "execution_count": 13,
   "id": "795ce74a-fff4-4549-9a99-02f3350bdfe9",
   "metadata": {},
   "outputs": [
    {
     "name": "stderr",
     "output_type": "stream",
     "text": [
      "C:\\Users\\Shazid\\AppData\\Local\\Temp\\ipykernel_6972\\2147020557.py:2: FutureWarning: A value is trying to be set on a copy of a DataFrame or Series through chained assignment using an inplace method.\n",
      "The behavior will change in pandas 3.0. This inplace method will never work because the intermediate object on which we are setting values always behaves as a copy.\n",
      "\n",
      "For example, when doing 'df[col].method(value, inplace=True)', try using 'df.method({col: value}, inplace=True)' or df[col] = df[col].method(value) instead, to perform the operation inplace on the original object.\n",
      "\n",
      "\n",
      "  data['Gross'].fillna(0, inplace=True)\n"
     ]
    }
   ],
   "source": [
    "# Fill missing values in Gross with 0 (assuming missing means no reported earnings)\n",
    "data['Gross'].fillna(0, inplace=True)\n"
   ]
  },
  {
   "cell_type": "code",
   "execution_count": 14,
   "id": "b51714b8-8691-48b6-a508-d36195648fe0",
   "metadata": {},
   "outputs": [],
   "source": [
    "\n",
    "# Drop rows where Certificate is missing\n",
    "data.dropna(subset=['Certificate'], inplace=True)\n"
   ]
  },
  {
   "cell_type": "code",
   "execution_count": 15,
   "id": "df255456-3919-40c2-b973-568c31afed91",
   "metadata": {},
   "outputs": [],
   "source": [
    "\n",
    "# Drop duplicates if any\n",
    "data.drop_duplicates(inplace=True)\n"
   ]
  },
  {
   "cell_type": "code",
   "execution_count": 16,
   "id": "c5ea1b26-f1d3-45ab-9e82-8003ca1e64c1",
   "metadata": {},
   "outputs": [
    {
     "name": "stdout",
     "output_type": "stream",
     "text": [
      "Poster_Link      0\n",
      "Series_Title     0\n",
      "Released_Year    0\n",
      "Certificate      0\n",
      "Runtime          0\n",
      "Genre            0\n",
      "IMDB_Rating      0\n",
      "Overview         0\n",
      "Meta_score       0\n",
      "Director         0\n",
      "Star1            0\n",
      "Star2            0\n",
      "Star3            0\n",
      "Star4            0\n",
      "No_of_Votes      0\n",
      "Gross            0\n",
      "dtype: int64\n"
     ]
    }
   ],
   "source": [
    "\n",
    "print(data.isnull().sum())"
   ]
  },
  {
   "cell_type": "code",
   "execution_count": 17,
   "id": "5eafe289-d976-44d0-b3b4-9affaa589261",
   "metadata": {},
   "outputs": [
    {
     "name": "stdout",
     "output_type": "stream",
     "text": [
      "<class 'pandas.core.frame.DataFrame'>\n",
      "Index: 899 entries, 0 to 997\n",
      "Data columns (total 16 columns):\n",
      " #   Column         Non-Null Count  Dtype  \n",
      "---  ------         --------------  -----  \n",
      " 0   Poster_Link    899 non-null    object \n",
      " 1   Series_Title   899 non-null    object \n",
      " 2   Released_Year  899 non-null    object \n",
      " 3   Certificate    899 non-null    object \n",
      " 4   Runtime        899 non-null    object \n",
      " 5   Genre          899 non-null    object \n",
      " 6   IMDB_Rating    899 non-null    float64\n",
      " 7   Overview       899 non-null    object \n",
      " 8   Meta_score     899 non-null    float64\n",
      " 9   Director       899 non-null    object \n",
      " 10  Star1          899 non-null    object \n",
      " 11  Star2          899 non-null    object \n",
      " 12  Star3          899 non-null    object \n",
      " 13  Star4          899 non-null    object \n",
      " 14  No_of_Votes    899 non-null    int64  \n",
      " 15  Gross          899 non-null    object \n",
      "dtypes: float64(2), int64(1), object(13)\n",
      "memory usage: 119.4+ KB\n"
     ]
    }
   ],
   "source": [
    "data.info()"
   ]
  },
  {
   "cell_type": "code",
   "execution_count": 18,
   "id": "f895bdc2-d340-4d0f-a8ec-bedee06437fd",
   "metadata": {},
   "outputs": [
    {
     "name": "stdout",
     "output_type": "stream",
     "text": [
      "   Released_Year  Runtime\n",
      "0         1994.0    142.0\n",
      "1         1972.0    175.0\n",
      "2         2008.0    152.0\n",
      "3         1974.0    202.0\n",
      "4         1957.0     96.0\n"
     ]
    }
   ],
   "source": [
    "# Convert Released_Year to integer\n",
    "data['Released_Year'] = pd.to_numeric(data['Released_Year'], errors='coerce')\n",
    "\n",
    "# Extract numerical value from Runtime (e.g., \"142 min\" → 142)\n",
    "data['Runtime'] = data['Runtime'].str.replace(\" min\", \"\").astype(float)\n",
    "\n",
    "# Verify changes\n",
    "print(data[['Released_Year', 'Runtime']].head())\n"
   ]
  },
  {
   "cell_type": "code",
   "execution_count": 21,
   "id": "d80b507a-1d85-4e36-a7d8-f07d37d75bc4",
   "metadata": {},
   "outputs": [],
   "source": [
    "#IMDB Ratings Distribution"
   ]
  },
  {
   "cell_type": "code",
   "execution_count": 20,
   "id": "003ecb2c-af85-4ef2-a103-da2c651459fe",
   "metadata": {},
   "outputs": [
    {
     "data": {
      "image/png": "[encoded data removed]",
      "text/plain": [
       "<Figure size 800x500 with 1 Axes>"
      ]
     },
     "metadata": {},
     "output_type": "display_data"
    }
   ],
   "source": [
    "import matplotlib.pyplot as plt\n",
    "import seaborn as sns\n",
    "\n",
    "plt.figure(figsize=(8, 5))\n",
    "sns.histplot(data['IMDB_Rating'], bins=20, kde=True)\n",
    "plt.title(\"Distribution of IMDB Ratings\")\n",
    "plt.xlabel(\"IMDB Rating\")\n",
    "plt.ylabel(\"Count\")\n",
    "plt.show()\n"
   ]
  },
  {
   "cell_type": "code",
   "execution_count": null,
   "id": "a7fd35cc-8cdb-4d54-a0fc-831c15f8d437",
   "metadata": {},
   "outputs": [],
   "source": []
  },
  {
   "cell_type": "code",
   "execution_count": 22,
   "id": "14a10266-23ee-42ac-b4f6-f965bbf4f289",
   "metadata": {},
   "outputs": [],
   "source": [
    "#Top 10 Genres by Count"
   ]
  },
  {
   "cell_type": "code",
   "execution_count": 23,
   "id": "7d7366e5-cb81-4bc9-a4cb-0c38dbbbf048",
   "metadata": {},
   "outputs": [
    {
     "data": {
      "image/png": "[encoded data removed]",
      "text/plain": [
       "<Figure size 1000x500 with 1 Axes>"
      ]
     },
     "metadata": {},
     "output_type": "display_data"
    }
   ],
   "source": [
    "from collections import Counter\n",
    "\n",
    "# Extract genres and count occurrences\n",
    "genre_list = data['Genre'].str.split(', ').explode()\n",
    "top_genres = pd.DataFrame(Counter(genre_list).most_common(10), columns=['Genre', 'Count'])\n",
    "\n",
    "# Plot\n",
    "plt.figure(figsize=(10, 5))\n",
    "sns.barplot(x='Count', y='Genre', data=top_genres)\n",
    "plt.title(\"Top 10 Most Common Genres\")\n",
    "plt.show()\n"
   ]
  },
  {
   "cell_type": "code",
   "execution_count": null,
   "id": "3836b6fd-32b1-41d9-9601-9461a3080f0c",
   "metadata": {},
   "outputs": [],
   "source": []
  },
  {
   "cell_type": "code",
   "execution_count": null,
   "id": "a1695ede-ecf0-430c-85e8-cae78815b63f",
   "metadata": {},
   "outputs": [],
   "source": []
  },
  {
   "cell_type": "markdown",
   "id": "d18bfd25-c327-4dbf-b425-14f3d3484d50",
   "metadata": {},
   "source": [
    "#Since Genre is a text column with multiple values per movie (e.g., \"Action, Drama\"), we will convert it into multi-hot encoding (one-hot encoding for multiple labels).\n"
   ]
  },
  {
   "cell_type": "code",
   "execution_count": 27,
   "id": "2fe10f1c-01f8-4f8a-8970-4986ae782ad0",
   "metadata": {},
   "outputs": [],
   "source": [
    "# Split the 'Genre' column into multiple categories\n",
    "df_exploded = data.assign(Genre=data['Genre'].str.split(', ')).explode('Genre')\n",
    "\n",
    "# Create one-hot encoding for genres\n",
    "genre_encoded = pd.get_dummies(df_exploded['Genre'])\n",
    "\n",
    "# Aggregate back to movie level (sum genres for the same movie)\n",
    "df_genres = df_exploded[['Series_Title']].join(genre_encoded).groupby('Series_Title').sum().reset_index()\n",
    "\n",
    "# Merge back with original dataset\n",
    "data = data.merge(df_genres, on=\"Series_Title\", how=\"left\")\n",
    "\n",
    "\n"
   ]
  },
  {
   "cell_type": "code",
   "execution_count": 30,
   "id": "593b6007-6769-4d22-977f-a9dcf650bf36",
   "metadata": {},
   "outputs": [
    {
     "name": "stdout",
     "output_type": "stream",
     "text": [
      "                                         Poster_Link  \\\n",
      "0  https://m.media-amazon.com/images/M/MV5BMDFkYT...   \n",
      "1  https://m.media-amazon.com/images/M/MV5BM2MyNj...   \n",
      "2  https://m.media-amazon.com/images/M/MV5BMTMxNT...   \n",
      "3  https://m.media-amazon.com/images/M/MV5BMWMwMG...   \n",
      "4  https://m.media-amazon.com/images/M/MV5BMWU4N2...   \n",
      "\n",
      "               Series_Title  Released_Year Certificate  Runtime  \\\n",
      "0  The Shawshank Redemption         1994.0           A    142.0   \n",
      "1             The Godfather         1972.0           A    175.0   \n",
      "2           The Dark Knight         2008.0          UA    152.0   \n",
      "3    The Godfather: Part II         1974.0           A    202.0   \n",
      "4              12 Angry Men         1957.0           U     96.0   \n",
      "\n",
      "                  Genre  IMDB_Rating  \\\n",
      "0                 Drama          9.3   \n",
      "1          Crime, Drama          9.2   \n",
      "2  Action, Crime, Drama          9.0   \n",
      "3          Crime, Drama          9.0   \n",
      "4          Crime, Drama          9.0   \n",
      "\n",
      "                                            Overview  Meta_score  \\\n",
      "0  Two imprisoned men bond over a number of years...        80.0   \n",
      "1  An organized crime dynasty's aging patriarch t...       100.0   \n",
      "2  When the menace known as the Joker wreaks havo...        84.0   \n",
      "3  The early life and career of Vito Corleone in ...        90.0   \n",
      "4  A jury holdout attempts to prevent a miscarria...        96.0   \n",
      "\n",
      "               Director  ... Horror Music Musical Mystery  Romance Sci-Fi  \\\n",
      "0        Frank Darabont  ...      0     0       0       0        0      0   \n",
      "1  Francis Ford Coppola  ...      0     0       0       0        0      0   \n",
      "2     Christopher Nolan  ...      0     0       0       0        0      0   \n",
      "3  Francis Ford Coppola  ...      0     0       0       0        0      0   \n",
      "4          Sidney Lumet  ...      0     0       0       0        0      0   \n",
      "\n",
      "   Sport  Thriller  War  Western  \n",
      "0      0         0    0        0  \n",
      "1      0         0    0        0  \n",
      "2      0         0    0        0  \n",
      "3      0         0    0        0  \n",
      "4      0         0    0        0  \n",
      "\n",
      "[5 rows x 79 columns]\n"
     ]
    }
   ],
   "source": [
    "print(data.head())"
   ]
  },
  {
   "cell_type": "code",
   "execution_count": 29,
   "id": "3a4720da-c927-49cb-a4e5-701bbffd8ff8",
   "metadata": {},
   "outputs": [
    {
     "name": "stdout",
     "output_type": "stream",
     "text": [
      "<class 'pandas.core.frame.DataFrame'>\n",
      "RangeIndex: 899 entries, 0 to 898\n",
      "Data columns (total 79 columns):\n",
      " #   Column         Non-Null Count  Dtype  \n",
      "---  ------         --------------  -----  \n",
      " 0   Poster_Link    899 non-null    object \n",
      " 1   Series_Title   899 non-null    object \n",
      " 2   Released_Year  898 non-null    float64\n",
      " 3   Certificate    899 non-null    object \n",
      " 4   Runtime        899 non-null    float64\n",
      " 5   Genre          899 non-null    object \n",
      " 6   IMDB_Rating    899 non-null    float64\n",
      " 7   Overview       899 non-null    object \n",
      " 8   Meta_score     899 non-null    float64\n",
      " 9   Director       899 non-null    object \n",
      " 10  Star1          899 non-null    object \n",
      " 11  Star2          899 non-null    object \n",
      " 12  Star3          899 non-null    object \n",
      " 13  Star4          899 non-null    object \n",
      " 14  No_of_Votes    899 non-null    int64  \n",
      " 15  Gross          899 non-null    object \n",
      " 16  Action_x       899 non-null    int64  \n",
      " 17  Adventure_x    899 non-null    int64  \n",
      " 18  Animation_x    899 non-null    int64  \n",
      " 19  Biography_x    899 non-null    int64  \n",
      " 20  Comedy_x       899 non-null    int64  \n",
      " 21  Crime_x        899 non-null    int64  \n",
      " 22  Drama_x        899 non-null    int64  \n",
      " 23  Family_x       899 non-null    int64  \n",
      " 24  Fantasy_x      899 non-null    int64  \n",
      " 25  Film-Noir_x    899 non-null    int64  \n",
      " 26  History_x      899 non-null    int64  \n",
      " 27  Horror_x       899 non-null    int64  \n",
      " 28  Music_x        899 non-null    int64  \n",
      " 29  Musical_x      899 non-null    int64  \n",
      " 30  Mystery_x      899 non-null    int64  \n",
      " 31  Romance_x      899 non-null    int64  \n",
      " 32  Sci-Fi_x       899 non-null    int64  \n",
      " 33  Sport_x        899 non-null    int64  \n",
      " 34  Thriller_x     899 non-null    int64  \n",
      " 35  War_x          899 non-null    int64  \n",
      " 36  Western_x      899 non-null    int64  \n",
      " 37  Action_y       899 non-null    int64  \n",
      " 38  Adventure_y    899 non-null    int64  \n",
      " 39  Animation_y    899 non-null    int64  \n",
      " 40  Biography_y    899 non-null    int64  \n",
      " 41  Comedy_y       899 non-null    int64  \n",
      " 42  Crime_y        899 non-null    int64  \n",
      " 43  Drama_y        899 non-null    int64  \n",
      " 44  Family_y       899 non-null    int64  \n",
      " 45  Fantasy_y      899 non-null    int64  \n",
      " 46  Film-Noir_y    899 non-null    int64  \n",
      " 47  History_y      899 non-null    int64  \n",
      " 48  Horror_y       899 non-null    int64  \n",
      " 49  Music_y        899 non-null    int64  \n",
      " 50  Musical_y      899 non-null    int64  \n",
      " 51  Mystery_y      899 non-null    int64  \n",
      " 52  Romance_y      899 non-null    int64  \n",
      " 53  Sci-Fi_y       899 non-null    int64  \n",
      " 54  Sport_y        899 non-null    int64  \n",
      " 55  Thriller_y     899 non-null    int64  \n",
      " 56  War_y          899 non-null    int64  \n",
      " 57  Western_y      899 non-null    int64  \n",
      " 58  Action         899 non-null    int64  \n",
      " 59  Adventure      899 non-null    int64  \n",
      " 60  Animation      899 non-null    int64  \n",
      " 61  Biography      899 non-null    int64  \n",
      " 62  Comedy         899 non-null    int64  \n",
      " 63  Crime          899 non-null    int64  \n",
      " 64  Drama          899 non-null    int64  \n",
      " 65  Family         899 non-null    int64  \n",
      " 66  Fantasy        899 non-null    int64  \n",
      " 67  Film-Noir      899 non-null    int64  \n",
      " 68  History        899 non-null    int64  \n",
      " 69  Horror         899 non-null    int64  \n",
      " 70  Music          899 non-null    int64  \n",
      " 71  Musical        899 non-null    int64  \n",
      " 72  Mystery        899 non-null    int64  \n",
      " 73  Romance        899 non-null    int64  \n",
      " 74  Sci-Fi         899 non-null    int64  \n",
      " 75  Sport          899 non-null    int64  \n",
      " 76  Thriller       899 non-null    int64  \n",
      " 77  War            899 non-null    int64  \n",
      " 78  Western        899 non-null    int64  \n",
      "dtypes: float64(4), int64(64), object(11)\n",
      "memory usage: 555.0+ KB\n"
     ]
    }
   ],
   "source": [
    "data.info()"
   ]
  },
  {
   "cell_type": "code",
   "execution_count": 31,
   "id": "2254510b-4169-441e-b744-11b1ae681554",
   "metadata": {},
   "outputs": [],
   "source": [
    "#We'll use Cosine Similarity to measure how similar two movies are based on their genres."
   ]
  },
  {
   "cell_type": "code",
   "execution_count": 35,
   "id": "5238dffd-e497-463d-9008-6e66005e0be5",
   "metadata": {},
   "outputs": [
    {
     "name": "stdout",
     "output_type": "stream",
     "text": [
      "Series_Title              The Shawshank Redemption  The Godfather  \\\n",
      "Series_Title                                                        \n",
      "The Shawshank Redemption                  1.000000       0.707107   \n",
      "The Godfather                             0.707107       1.000000   \n",
      "The Dark Knight                           0.577350       0.816497   \n",
      "The Godfather: Part II                    0.707107       1.000000   \n",
      "12 Angry Men                              0.707107       1.000000   \n",
      "\n",
      "Series_Title              The Dark Knight  The Godfather: Part II  \\\n",
      "Series_Title                                                        \n",
      "The Shawshank Redemption         0.577350                0.707107   \n",
      "The Godfather                    0.816497                1.000000   \n",
      "The Dark Knight                  1.000000                0.816497   \n",
      "The Godfather: Part II           0.816497                1.000000   \n",
      "12 Angry Men                     0.816497                1.000000   \n",
      "\n",
      "Series_Title              12 Angry Men  \\\n",
      "Series_Title                             \n",
      "The Shawshank Redemption      0.707107   \n",
      "The Godfather                 1.000000   \n",
      "The Dark Knight               0.816497   \n",
      "The Godfather: Part II        1.000000   \n",
      "12 Angry Men                  1.000000   \n",
      "\n",
      "Series_Title              The Lord of the Rings: The Return of the King  \\\n",
      "Series_Title                                                              \n",
      "The Shawshank Redemption                                       0.577350   \n",
      "The Godfather                                                  0.408248   \n",
      "The Dark Knight                                                0.666667   \n",
      "The Godfather: Part II                                         0.408248   \n",
      "12 Angry Men                                                   0.408248   \n",
      "\n",
      "Series_Title              Pulp Fiction  Schindler's List  Inception  \\\n",
      "Series_Title                                                          \n",
      "The Shawshank Redemption      0.707107          0.577350   0.000000   \n",
      "The Godfather                 1.000000          0.408248   0.000000   \n",
      "The Dark Knight               0.816497          0.333333   0.333333   \n",
      "The Godfather: Part II        1.000000          0.408248   0.000000   \n",
      "12 Angry Men                  1.000000          0.408248   0.000000   \n",
      "\n",
      "Series_Title              Fight Club  ...  Close Encounters of the Third Kind  \\\n",
      "Series_Title                          ...                                       \n",
      "The Shawshank Redemption    1.000000  ...                            0.707107   \n",
      "The Godfather               0.707107  ...                            0.500000   \n",
      "The Dark Knight             0.577350  ...                            0.408248   \n",
      "The Godfather: Part II      0.707107  ...                            0.500000   \n",
      "12 Angry Men                0.707107  ...                            0.500000   \n",
      "\n",
      "Series_Title              The Long Goodbye  Giù la testa  Kelly's Heroes  \\\n",
      "Series_Title                                                               \n",
      "The Shawshank Redemption          0.577350      0.577350             0.0   \n",
      "The Godfather                     0.816497      0.408248             0.0   \n",
      "The Dark Knight                   0.666667      0.333333             0.0   \n",
      "The Godfather: Part II            0.816497      0.408248             0.0   \n",
      "12 Angry Men                      0.816497      0.408248             0.0   \n",
      "\n",
      "Series_Title              The Jungle Book    Blowup  A Hard Day's Night  \\\n",
      "Series_Title                                                              \n",
      "The Shawshank Redemption              0.0  0.577350                 0.0   \n",
      "The Godfather                         0.0  0.408248                 0.0   \n",
      "The Dark Knight                       0.0  0.333333                 0.0   \n",
      "The Godfather: Part II                0.0  0.408248                 0.0   \n",
      "12 Angry Men                          0.0  0.408248                 0.0   \n",
      "\n",
      "Series_Title              Breakfast at Tiffany's     Giant  \\\n",
      "Series_Title                                                 \n",
      "The Shawshank Redemption                0.577350  0.707107   \n",
      "The Godfather                           0.408248  0.500000   \n",
      "The Dark Knight                         0.333333  0.408248   \n",
      "The Godfather: Part II                  0.408248  0.500000   \n",
      "12 Angry Men                            0.408248  0.500000   \n",
      "\n",
      "Series_Title              From Here to Eternity  \n",
      "Series_Title                                     \n",
      "The Shawshank Redemption               0.577350  \n",
      "The Godfather                          0.408248  \n",
      "The Dark Knight                        0.333333  \n",
      "The Godfather: Part II                 0.408248  \n",
      "12 Angry Men                           0.408248  \n",
      "\n",
      "[5 rows x 899 columns]\n"
     ]
    }
   ],
   "source": [
    "from sklearn.metrics.pairwise import cosine_similarity\n",
    "\n",
    "# Select only genre columns\n",
    "genre_cols = genre_encoded.columns\n",
    "\n",
    "# Compute cosine similarity\n",
    "similarity_matrix = cosine_similarity(data[genre_cols])\n",
    "\n",
    "# Convert to DataFrame for readability\n",
    "similarity_df = pd.DataFrame(similarity_matrix, index=data[\"Series_Title\"], columns=data[\"Series_Title\"])\n",
    "\n",
    "print(similarity_df.head())  # Check similarity scores\n"
   ]
  },
  {
   "cell_type": "code",
   "execution_count": 36,
   "id": "6115bb34-9e9c-44a4-b79e-d5d858adcb43",
   "metadata": {},
   "outputs": [],
   "source": [
    "#Now, let's create a function that takes a movie title as input and returns the Top 10 Recommended Movies based on genre similarity."
   ]
  },
  {
   "cell_type": "code",
   "execution_count": 39,
   "id": "fd208687-ad44-47f1-8c00-1f43bafff105",
   "metadata": {},
   "outputs": [],
   "source": [
    "def recommend_movies(movie_title, num_recommendations=10):\n",
    "    if movie_title not in similarity_df.index:\n",
    "        return f\"Movie '{movie_title}' not found in dataset!\"\n",
    "\n",
    "    # Get similarity scores for the given movie\n",
    "    movie_similarities = similarity_df[movie_title]\n",
    "\n",
    "    # Sort movies by similarity (excluding itself)\n",
    "    recommended_movies = movie_similarities.sort_values(ascending=False).iloc[1:num_recommendations+1]\n",
    "\n",
    "    return recommended_movies.index.tolist()\n",
    "\n",
    "\n"
   ]
  },
  {
   "cell_type": "code",
   "execution_count": 40,
   "id": "fa0b14c0-3453-499c-81b9-7f94ba7d761d",
   "metadata": {},
   "outputs": [
    {
     "name": "stdout",
     "output_type": "stream",
     "text": [
      "['Kill Bill: Vol. 1', 'The Fugitive', 'Dip huet seung hung', 'Haider', 'Hell or High Water', 'End of Watch', 'The French Connection', 'The Dark Knight', 'Scarface: The Shame of the Nation', 'Badlands']\n"
     ]
    }
   ],
   "source": [
    "# Test the function\n",
    "print(recommend_movies(\"The Dark Knight\"))"
   ]
  },
  {
   "cell_type": "code",
   "execution_count": 41,
   "id": "043e7a91-add6-4954-8730-461961d7cb20",
   "metadata": {},
   "outputs": [
    {
     "name": "stdout",
     "output_type": "stream",
     "text": [
      "Movie 'Harry Potter' not found in dataset!\n"
     ]
    }
   ],
   "source": [
    "# Test the function\n",
    "print(recommend_movies(\"Harry Potter\"))"
   ]
  },
  {
   "cell_type": "code",
   "execution_count": null,
   "id": "ae864df5-a97d-4aa1-ba65-b3b47412d995",
   "metadata": {},
   "outputs": [],
   "source": []
  },
  {
   "cell_type": "markdown",
   "id": "a9fc0a57-f0c8-4936-9084-26f140961c99",
   "metadata": {},
   "source": [
    "Hit Rate → Measures how often the recommended movies appear in the user's actual watched list.\n",
    "Mean Average Precision at K (MAP@K) → Measures how relevant the top-K recommended movies are."
   ]
  },
  {
   "cell_type": "code",
   "execution_count": 42,
   "id": "6d5147c1-591e-4e81-bc21-8b9c830cb3be",
   "metadata": {},
   "outputs": [
    {
     "name": "stdout",
     "output_type": "stream",
     "text": [
      "Hit Rate: 0.40\n",
      "MAP@K: 0.50\n"
     ]
    }
   ],
   "source": [
    "import numpy as np\n",
    "\n",
    "def hit_rate(recommended_movies, actual_movies):\n",
    "    \"\"\"Calculates the percentage of recommended movies that exist in the user's actual watch list.\"\"\"\n",
    "    hits = sum(1 for movie in recommended_movies if movie in actual_movies)\n",
    "    return hits / len(recommended_movies) if recommended_movies else 0\n",
    "\n",
    "def average_precision_at_k(recommended_movies, actual_movies, k=10):\n",
    "    \"\"\"Computes Mean Average Precision at K (MAP@K).\"\"\"\n",
    "    score = 0.0\n",
    "    num_hits = 0\n",
    "    for i, movie in enumerate(recommended_movies[:k]):\n",
    "        if movie in actual_movies:\n",
    "            num_hits += 1\n",
    "            score += num_hits / (i + 1)\n",
    "    return score / min(len(actual_movies), k) if actual_movies else 0\n",
    "\n",
    "# Example test case (Simulating a user’s actual watched movies)\n",
    "actual_movies = [\"The Dark Knight\", \"Inception\", \"Interstellar\"]  # User's watched movies\n",
    "recommended_movies = [\"The Dark Knight\", \"The Godfather\", \"Pulp Fiction\", \"Inception\", \"Forrest Gump\"]\n",
    "\n",
    "# Compute evaluation metrics\n",
    "hit_rate_score = hit_rate(recommended_movies, actual_movies)\n",
    "map_at_k_score = average_precision_at_k(recommended_movies, actual_movies)\n",
    "\n",
    "print(f\"Hit Rate: {hit_rate_score:.2f}\")\n",
    "print(f\"MAP@K: {map_at_k_score:.2f}\")\n"
   ]
  },
  {
   "cell_type": "code",
   "execution_count": null,
   "id": "65ff4ba1-5053-41a9-ad49-469a47b21f96",
   "metadata": {},
   "outputs": [],
   "source": []
  },
  {
   "cell_type": "markdown",
   "id": "5be881c0-dd48-453a-b651-fc2082646184",
   "metadata": {},
   "source": [
    "We need to create a mapping of movie titles to their respective indices in the dataset. This will help in fetching recommendations based on a movie's name."
   ]
  },
  {
   "cell_type": "code",
   "execution_count": 46,
   "id": "cf6ca034-5c3f-4602-a165-8964bf5f436d",
   "metadata": {},
   "outputs": [],
   "source": [
    "# Create a mapping from movie titles to indices\n",
    "movie_indices = pd.Series(data.index, index=data['Series_Title']).to_dict()\n"
   ]
  },
  {
   "cell_type": "code",
   "execution_count": 47,
   "id": "395b9efe-271d-487c-9e32-d64bec37aed4",
   "metadata": {},
   "outputs": [
    {
     "name": "stdout",
     "output_type": "stream",
     "text": [
      "Model saved successfully!\n"
     ]
    }
   ],
   "source": [
    "### Niw lets save the model \n",
    "\n",
    "\n",
    "import pickle\n",
    "\n",
    "# Save the similarity matrix\n",
    "with open(\"movie_similarity.pkl\", \"wb\") as f:\n",
    "    pickle.dump(similarity_matrix, f)\n",
    "\n",
    "# Save the movie index mapping (to retrieve movie names later)\n",
    "with open(\"movie_indices.pkl\", \"wb\") as f:\n",
    "    pickle.dump(movie_indices, f)\n",
    "\n",
    "print(\"Model saved successfully!\")\n"
   ]
  },
  {
   "cell_type": "code",
   "execution_count": 48,
   "id": "f2560491-b625-4009-84fe-ef118c71b076",
   "metadata": {},
   "outputs": [
    {
     "name": "stdout",
     "output_type": "stream",
     "text": [
      "Model loaded successfully!\n"
     ]
    }
   ],
   "source": [
    "### Now let chck\n",
    "\n",
    "\n",
    "# Load the similarity matrix\n",
    "with open(\"movie_similarity.pkl\", \"rb\") as f:\n",
    "    similarity_matrix = pickle.load(f)\n",
    "\n",
    "# Load the movie indices\n",
    "with open(\"movie_indices.pkl\", \"rb\") as f:\n",
    "    movie_indices = pickle.load(f)\n",
    "\n",
    "print(\"Model loaded successfully!\")\n"
   ]
  },
  {
   "cell_type": "code",
   "execution_count": null,
   "id": "c83161a9-0c95-444a-b007-64dbd062f270",
   "metadata": {},
   "outputs": [],
   "source": []
  }
 ],
 "metadata": {
  "kernelspec": {
   "display_name": "Python 3 (ipykernel)",
   "language": "python",
   "name": "python3"
  },
  "language_info": {
   "codemirror_mode": {
    "name": "ipython",
    "version": 3
   },
   "file_extension": ".py",
   "mimetype": "text/x-python",
   "name": "python",
   "nbconvert_exporter": "python",
   "pygments_lexer": "ipython3",
   "version": "3.13.1"
  }
 },
 "nbformat": 4,
 "nbformat_minor": 5
}
